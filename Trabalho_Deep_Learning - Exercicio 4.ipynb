{
 "cells": [
  {
   "cell_type": "markdown",
   "id": "67831b17",
   "metadata": {},
   "source": [
    "# Trabalho de Deep Learning - FIAP - Professor Felipe Teodoro"
   ]
  },
  {
   "cell_type": "markdown",
   "id": "128058ca",
   "metadata": {},
   "source": [
    "## Alunos"
   ]
  },
  {
   "cell_type": "markdown",
   "id": "02f82663",
   "metadata": {},
   "source": [
    "RM 340544 - Mauricio Raghe Binda <br>\n",
    "RM 341704 - Ricardo da Silva Cruz <br>\n",
    "RM 340347 - Rodrigo de Miranda Videira  <br>"
   ]
  },
  {
   "cell_type": "markdown",
   "id": "d9478c24",
   "metadata": {},
   "source": [
    "___"
   ]
  },
  {
   "cell_type": "markdown",
   "id": "453579ee",
   "metadata": {},
   "source": [
    "## Exercício 4"
   ]
  },
  {
   "cell_type": "markdown",
   "id": "991e3417",
   "metadata": {},
   "source": [
    "## Imports"
   ]
  },
  {
   "cell_type": "code",
   "execution_count": 28,
   "id": "c59a8ad3",
   "metadata": {},
   "outputs": [],
   "source": [
    "import pandas as pd\n",
    "import numpy as np\n",
    "import seaborn as sns\n",
    "import matplotlib.pyplot as plt\n",
    "\n",
    "from sklearn import datasets\n",
    "from sklearn.model_selection import train_test_split\n",
    "from sklearn import preprocessing\n",
    "\n",
    "import tensorflow as tf"
   ]
  },
  {
   "cell_type": "code",
   "execution_count": 29,
   "id": "ae865579",
   "metadata": {},
   "outputs": [],
   "source": [
    "df_exercicio_4 = pd.read_csv('datasets/DatasetExercicio4.csv', sep=';')"
   ]
  },
  {
   "cell_type": "code",
   "execution_count": 30,
   "id": "85f11118",
   "metadata": {},
   "outputs": [
    {
     "data": {
      "text/html": [
       "<div>\n",
       "<style scoped>\n",
       "    .dataframe tbody tr th:only-of-type {\n",
       "        vertical-align: middle;\n",
       "    }\n",
       "\n",
       "    .dataframe tbody tr th {\n",
       "        vertical-align: top;\n",
       "    }\n",
       "\n",
       "    .dataframe thead th {\n",
       "        text-align: right;\n",
       "    }\n",
       "</style>\n",
       "<table border=\"1\" class=\"dataframe\">\n",
       "  <thead>\n",
       "    <tr style=\"text-align: right;\">\n",
       "      <th></th>\n",
       "      <th>0</th>\n",
       "      <th>1</th>\n",
       "      <th>2</th>\n",
       "      <th>3</th>\n",
       "      <th>4</th>\n",
       "      <th>5</th>\n",
       "      <th>6</th>\n",
       "      <th>7</th>\n",
       "      <th>8</th>\n",
       "      <th>9</th>\n",
       "      <th>10</th>\n",
       "      <th>11</th>\n",
       "      <th>12</th>\n",
       "      <th>13</th>\n",
       "      <th>14</th>\n",
       "      <th>15</th>\n",
       "      <th>16</th>\n",
       "    </tr>\n",
       "  </thead>\n",
       "  <tbody>\n",
       "    <tr>\n",
       "      <th>0</th>\n",
       "      <td>-0.732337</td>\n",
       "      <td>-0.460087</td>\n",
       "      <td>0.410588</td>\n",
       "      <td>1.387655</td>\n",
       "      <td>1.549960</td>\n",
       "      <td>-0.309028</td>\n",
       "      <td>-0.119034</td>\n",
       "      <td>-1.710895</td>\n",
       "      <td>-2.103701</td>\n",
       "      <td>0.270298</td>\n",
       "      <td>-0.951528</td>\n",
       "      <td>-1.738395</td>\n",
       "      <td>2.242746</td>\n",
       "      <td>-0.062398</td>\n",
       "      <td>3.600965</td>\n",
       "      <td>0.506660</td>\n",
       "      <td>-0.351065</td>\n",
       "    </tr>\n",
       "    <tr>\n",
       "      <th>1</th>\n",
       "      <td>-1.697668</td>\n",
       "      <td>-3.658057</td>\n",
       "      <td>-0.067462</td>\n",
       "      <td>-0.307627</td>\n",
       "      <td>-3.257361</td>\n",
       "      <td>3.018813</td>\n",
       "      <td>0.506056</td>\n",
       "      <td>-1.943546</td>\n",
       "      <td>-0.781291</td>\n",
       "      <td>-1.054938</td>\n",
       "      <td>-0.903841</td>\n",
       "      <td>-0.971778</td>\n",
       "      <td>0.725666</td>\n",
       "      <td>-0.288371</td>\n",
       "      <td>2.136540</td>\n",
       "      <td>-0.172262</td>\n",
       "      <td>-3.538182</td>\n",
       "    </tr>\n",
       "    <tr>\n",
       "      <th>2</th>\n",
       "      <td>-0.009419</td>\n",
       "      <td>-2.079725</td>\n",
       "      <td>0.695339</td>\n",
       "      <td>1.395909</td>\n",
       "      <td>-1.152059</td>\n",
       "      <td>-0.149841</td>\n",
       "      <td>-1.748309</td>\n",
       "      <td>0.663311</td>\n",
       "      <td>0.243399</td>\n",
       "      <td>-0.468567</td>\n",
       "      <td>-1.793045</td>\n",
       "      <td>0.313092</td>\n",
       "      <td>0.156787</td>\n",
       "      <td>0.646463</td>\n",
       "      <td>0.872121</td>\n",
       "      <td>-0.876460</td>\n",
       "      <td>-0.159286</td>\n",
       "    </tr>\n",
       "    <tr>\n",
       "      <th>3</th>\n",
       "      <td>-0.955029</td>\n",
       "      <td>2.413873</td>\n",
       "      <td>-0.239355</td>\n",
       "      <td>0.296029</td>\n",
       "      <td>0.785301</td>\n",
       "      <td>-2.146341</td>\n",
       "      <td>1.792001</td>\n",
       "      <td>0.023154</td>\n",
       "      <td>-0.379947</td>\n",
       "      <td>1.025835</td>\n",
       "      <td>0.083103</td>\n",
       "      <td>1.352882</td>\n",
       "      <td>0.061962</td>\n",
       "      <td>0.043511</td>\n",
       "      <td>-1.387151</td>\n",
       "      <td>1.786397</td>\n",
       "      <td>0.813789</td>\n",
       "    </tr>\n",
       "    <tr>\n",
       "      <th>4</th>\n",
       "      <td>2.282446</td>\n",
       "      <td>0.764661</td>\n",
       "      <td>0.385960</td>\n",
       "      <td>-3.203398</td>\n",
       "      <td>0.165334</td>\n",
       "      <td>2.816127</td>\n",
       "      <td>-0.592895</td>\n",
       "      <td>-0.460681</td>\n",
       "      <td>1.613249</td>\n",
       "      <td>-0.383905</td>\n",
       "      <td>1.345218</td>\n",
       "      <td>0.173645</td>\n",
       "      <td>1.299997</td>\n",
       "      <td>-0.356091</td>\n",
       "      <td>-2.358184</td>\n",
       "      <td>0.142573</td>\n",
       "      <td>-1.503465</td>\n",
       "    </tr>\n",
       "  </tbody>\n",
       "</table>\n",
       "</div>"
      ],
      "text/plain": [
       "          0         1         2         3         4         5         6  \\\n",
       "0 -0.732337 -0.460087  0.410588  1.387655  1.549960 -0.309028 -0.119034   \n",
       "1 -1.697668 -3.658057 -0.067462 -0.307627 -3.257361  3.018813  0.506056   \n",
       "2 -0.009419 -2.079725  0.695339  1.395909 -1.152059 -0.149841 -1.748309   \n",
       "3 -0.955029  2.413873 -0.239355  0.296029  0.785301 -2.146341  1.792001   \n",
       "4  2.282446  0.764661  0.385960 -3.203398  0.165334  2.816127 -0.592895   \n",
       "\n",
       "          7         8         9        10        11        12        13  \\\n",
       "0 -1.710895 -2.103701  0.270298 -0.951528 -1.738395  2.242746 -0.062398   \n",
       "1 -1.943546 -0.781291 -1.054938 -0.903841 -0.971778  0.725666 -0.288371   \n",
       "2  0.663311  0.243399 -0.468567 -1.793045  0.313092  0.156787  0.646463   \n",
       "3  0.023154 -0.379947  1.025835  0.083103  1.352882  0.061962  0.043511   \n",
       "4 -0.460681  1.613249 -0.383905  1.345218  0.173645  1.299997 -0.356091   \n",
       "\n",
       "         14        15        16  \n",
       "0  3.600965  0.506660 -0.351065  \n",
       "1  2.136540 -0.172262 -3.538182  \n",
       "2  0.872121 -0.876460 -0.159286  \n",
       "3 -1.387151  1.786397  0.813789  \n",
       "4 -2.358184  0.142573 -1.503465  "
      ]
     },
     "execution_count": 30,
     "metadata": {},
     "output_type": "execute_result"
    }
   ],
   "source": [
    "df_exercicio_4.head()"
   ]
  },
  {
   "cell_type": "code",
   "execution_count": 31,
   "id": "dce145a8",
   "metadata": {},
   "outputs": [
    {
     "data": {
      "text/plain": [
       "(30000, 17)"
      ]
     },
     "execution_count": 31,
     "metadata": {},
     "output_type": "execute_result"
    }
   ],
   "source": [
    "df_exercicio_4.shape"
   ]
  },
  {
   "cell_type": "code",
   "execution_count": 32,
   "id": "1d235440",
   "metadata": {},
   "outputs": [
    {
     "data": {
      "text/plain": [
       "0     float64\n",
       "1     float64\n",
       "2     float64\n",
       "3     float64\n",
       "4     float64\n",
       "5     float64\n",
       "6     float64\n",
       "7     float64\n",
       "8     float64\n",
       "9     float64\n",
       "10    float64\n",
       "11    float64\n",
       "12    float64\n",
       "13    float64\n",
       "14    float64\n",
       "15    float64\n",
       "16    float64\n",
       "dtype: object"
      ]
     },
     "execution_count": 32,
     "metadata": {},
     "output_type": "execute_result"
    }
   ],
   "source": [
    "df_exercicio_4.dtypes"
   ]
  },
  {
   "cell_type": "code",
   "execution_count": 33,
   "id": "d052c387",
   "metadata": {},
   "outputs": [],
   "source": [
    "#X_train, X_test, y_train, y_test = train_test_split(X, Y, test_size=0.30, random_state=42)"
   ]
  },
  {
   "cell_type": "code",
   "execution_count": null,
   "id": "889c3eb9",
   "metadata": {},
   "outputs": [],
   "source": []
  }
 ],
 "metadata": {
  "kernelspec": {
   "display_name": "Python 3 (ipykernel)",
   "language": "python",
   "name": "python3"
  },
  "language_info": {
   "codemirror_mode": {
    "name": "ipython",
    "version": 3
   },
   "file_extension": ".py",
   "mimetype": "text/x-python",
   "name": "python",
   "nbconvert_exporter": "python",
   "pygments_lexer": "ipython3",
   "version": "3.9.7"
  }
 },
 "nbformat": 4,
 "nbformat_minor": 5
}
