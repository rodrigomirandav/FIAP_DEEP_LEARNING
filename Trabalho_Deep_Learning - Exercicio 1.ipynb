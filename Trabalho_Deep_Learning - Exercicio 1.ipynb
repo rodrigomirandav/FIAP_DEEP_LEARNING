{
 "cells": [
  {
   "cell_type": "markdown",
   "id": "8c31fc34",
   "metadata": {},
   "source": [
    "# Trabalho de Deep Learning - FIAP - Professor Felipe Teodoro"
   ]
  },
  {
   "cell_type": "markdown",
   "id": "3f547d03",
   "metadata": {},
   "source": [
    "## Alunos"
   ]
  },
  {
   "cell_type": "markdown",
   "id": "2dcb25f6",
   "metadata": {},
   "source": [
    "RM 340544 - Mauricio Raghe Binda <br>\n",
    "RM 341704 - Ricardo da Silva Cruz <br>\n",
    "RM 340347 - Rodrigo de Miranda Videira  <br>"
   ]
  },
  {
   "cell_type": "markdown",
   "id": "0ab93d7b",
   "metadata": {},
   "source": [
    "____"
   ]
  },
  {
   "cell_type": "markdown",
   "id": "2ef45f08",
   "metadata": {},
   "source": [
    "## Exercício 1"
   ]
  },
  {
   "cell_type": "markdown",
   "id": "3b510cc8",
   "metadata": {},
   "source": [
    "## Imports"
   ]
  },
  {
   "cell_type": "code",
   "execution_count": 19,
   "id": "164da54f",
   "metadata": {},
   "outputs": [],
   "source": [
    "#!pip install tensorflow"
   ]
  },
  {
   "cell_type": "code",
   "execution_count": 1,
   "id": "9fcc3e11",
   "metadata": {},
   "outputs": [],
   "source": [
    "import pandas as pd\n",
    "import numpy as np\n",
    "import seaborn as sns\n",
    "import matplotlib.pyplot as plt\n",
    "\n",
    "from sklearn import datasets\n",
    "from sklearn.model_selection import train_test_split\n",
    "\n",
    "import tensorflow as tf"
   ]
  },
  {
   "cell_type": "markdown",
   "id": "3efa493c",
   "metadata": {},
   "source": [
    "### a) IRIS"
   ]
  },
  {
   "cell_type": "code",
   "execution_count": 2,
   "id": "e18261e2",
   "metadata": {},
   "outputs": [
    {
     "data": {
      "text/plain": [
       "dict_keys(['data', 'target', 'frame', 'target_names', 'DESCR', 'feature_names', 'filename', 'data_module'])"
      ]
     },
     "execution_count": 2,
     "metadata": {},
     "output_type": "execute_result"
    }
   ],
   "source": [
    "iris = datasets.load_iris()\n",
    "iris.keys()"
   ]
  },
  {
   "cell_type": "code",
   "execution_count": 3,
   "id": "0f431747",
   "metadata": {},
   "outputs": [
    {
     "name": "stdout",
     "output_type": "stream",
     "text": [
      "Número de classes = 3 e número de features = 4\n"
     ]
    }
   ],
   "source": [
    "num_classes = len(iris.target_names)\n",
    "num_features = len(iris.feature_names)\n",
    "\n",
    "print(f\"Número de classes = {num_classes} e número de features = {num_features}\")"
   ]
  },
  {
   "cell_type": "code",
   "execution_count": 4,
   "id": "e7e3e6c7",
   "metadata": {},
   "outputs": [],
   "source": [
    "X_train, X_test, y_train, y_test = train_test_split(iris.data, iris.target, test_size=0.30, random_state=42)"
   ]
  },
  {
   "cell_type": "code",
   "execution_count": 5,
   "id": "d227dd8e",
   "metadata": {},
   "outputs": [],
   "source": [
    "y_train = tf.keras.utils.to_categorical(y_train, num_classes)\n",
    "y_test = tf.keras.utils.to_categorical(y_test, num_classes)"
   ]
  },
  {
   "cell_type": "code",
   "execution_count": 6,
   "id": "f2ac3888",
   "metadata": {},
   "outputs": [
    {
     "data": {
      "text/plain": [
       "(105, 4)"
      ]
     },
     "execution_count": 6,
     "metadata": {},
     "output_type": "execute_result"
    }
   ],
   "source": [
    "X_train.shape"
   ]
  },
  {
   "cell_type": "code",
   "execution_count": 26,
   "id": "7b88de40",
   "metadata": {},
   "outputs": [],
   "source": [
    "iris_classificacao = tf.keras.Sequential();"
   ]
  },
  {
   "cell_type": "code",
   "execution_count": 27,
   "id": "52454c2a",
   "metadata": {},
   "outputs": [],
   "source": [
    "iris_classificacao.add(tf.keras.layers.Dense(activation='relu', input_dim=num_features, units=5, kernel_initializer='uniform'))"
   ]
  },
  {
   "cell_type": "code",
   "execution_count": 28,
   "id": "8c983b85",
   "metadata": {},
   "outputs": [],
   "source": [
    "iris_classificacao.add(tf.keras.layers.Dense(activation='sigmoid', units=num_classes, kernel_initializer='uniform'))"
   ]
  },
  {
   "cell_type": "code",
   "execution_count": 29,
   "id": "9a811288",
   "metadata": {},
   "outputs": [],
   "source": [
    "iris_classificacao.compile(loss='categorical_crossentropy', optimizer='adam', metrics=['accuracy'])"
   ]
  },
  {
   "cell_type": "code",
   "execution_count": 30,
   "id": "cd34a0dd",
   "metadata": {},
   "outputs": [],
   "source": [
    "checkpointer = tf.keras.callbacks.ModelCheckpoint(filepath='modelos/iris.hdf5', verbose=1,  save_best_only=True, monitor='val_accuracy')"
   ]
  },
  {
   "cell_type": "code",
   "execution_count": 31,
   "id": "d73b4c51",
   "metadata": {},
   "outputs": [
    {
     "name": "stdout",
     "output_type": "stream",
     "text": [
      "Epoch 1/50\n",
      "39/42 [==========================>...] - ETA: 0s - loss: 1.0964 - accuracy: 0.4872\n",
      "Epoch 1: val_accuracy improved from -inf to 0.52381, saving model to iris.hdf5\n",
      "42/42 [==============================] - 9s 88ms/step - loss: 1.0963 - accuracy: 0.4762 - val_loss: 1.0906 - val_accuracy: 0.5238\n",
      "Epoch 2/50\n",
      "37/42 [=========================>....] - ETA: 0s - loss: 1.0898 - accuracy: 0.3243\n",
      "Epoch 2: val_accuracy did not improve from 0.52381\n",
      "42/42 [==============================] - 0s 11ms/step - loss: 1.0892 - accuracy: 0.3214 - val_loss: 1.0768 - val_accuracy: 0.4762\n",
      "Epoch 3/50\n",
      "39/42 [==========================>...] - ETA: 0s - loss: 1.0797 - accuracy: 0.3077\n",
      "Epoch 3: val_accuracy did not improve from 0.52381\n",
      "42/42 [==============================] - 1s 21ms/step - loss: 1.0782 - accuracy: 0.3214 - val_loss: 1.0583 - val_accuracy: 0.4762\n",
      "Epoch 4/50\n",
      "41/42 [============================>.] - ETA: 0s - loss: 1.0596 - accuracy: 0.3293\n",
      "Epoch 4: val_accuracy did not improve from 0.52381\n",
      "42/42 [==============================] - 1s 13ms/step - loss: 1.0598 - accuracy: 0.3333 - val_loss: 1.0320 - val_accuracy: 0.5238\n",
      "Epoch 5/50\n",
      "38/42 [==========================>...] - ETA: 0s - loss: 1.0396 - accuracy: 0.5395\n",
      "Epoch 5: val_accuracy improved from 0.52381 to 0.66667, saving model to iris.hdf5\n",
      "42/42 [==============================] - 1s 15ms/step - loss: 1.0362 - accuracy: 0.5476 - val_loss: 1.0039 - val_accuracy: 0.6667\n",
      "Epoch 6/50\n",
      "38/42 [==========================>...] - ETA: 0s - loss: 1.0061 - accuracy: 0.6447\n",
      "Epoch 6: val_accuracy did not improve from 0.66667\n",
      "42/42 [==============================] - 1s 16ms/step - loss: 1.0040 - accuracy: 0.6429 - val_loss: 0.9671 - val_accuracy: 0.6667\n",
      "Epoch 7/50\n",
      "41/42 [============================>.] - ETA: 0s - loss: 0.9651 - accuracy: 0.6585\n",
      "Epoch 7: val_accuracy did not improve from 0.66667\n",
      "42/42 [==============================] - 1s 17ms/step - loss: 0.9661 - accuracy: 0.6429 - val_loss: 0.9302 - val_accuracy: 0.6667\n",
      "Epoch 8/50\n",
      "38/42 [==========================>...] - ETA: 0s - loss: 0.9281 - accuracy: 0.6447\n",
      "Epoch 8: val_accuracy did not improve from 0.66667\n",
      "42/42 [==============================] - 0s 10ms/step - loss: 0.9251 - accuracy: 0.6429 - val_loss: 0.8856 - val_accuracy: 0.6667\n",
      "Epoch 9/50\n",
      "41/42 [============================>.] - ETA: 0s - loss: 0.8812 - accuracy: 0.6707\n",
      "Epoch 9: val_accuracy did not improve from 0.66667\n",
      "42/42 [==============================] - 0s 10ms/step - loss: 0.8838 - accuracy: 0.6548 - val_loss: 0.8454 - val_accuracy: 0.6667\n",
      "Epoch 10/50\n",
      "37/42 [=========================>....] - ETA: 0s - loss: 0.8387 - accuracy: 0.6622\n",
      "Epoch 10: val_accuracy improved from 0.66667 to 0.71429, saving model to iris.hdf5\n",
      "42/42 [==============================] - 1s 24ms/step - loss: 0.8367 - accuracy: 0.6548 - val_loss: 0.8145 - val_accuracy: 0.7143\n",
      "Epoch 11/50\n",
      "40/42 [===========================>..] - ETA: 0s - loss: 0.7996 - accuracy: 0.7250\n",
      "Epoch 11: val_accuracy did not improve from 0.71429\n",
      "42/42 [==============================] - 1s 16ms/step - loss: 0.7957 - accuracy: 0.7262 - val_loss: 0.7680 - val_accuracy: 0.7143\n",
      "Epoch 12/50\n",
      "37/42 [=========================>....] - ETA: 0s - loss: 0.7474 - accuracy: 0.6892\n",
      "Epoch 12: val_accuracy did not improve from 0.71429\n",
      "42/42 [==============================] - 0s 11ms/step - loss: 0.7560 - accuracy: 0.6548 - val_loss: 0.7398 - val_accuracy: 0.7143\n",
      "Epoch 13/50\n",
      "36/42 [========================>.....] - ETA: 0s - loss: 0.7198 - accuracy: 0.7083\n",
      "Epoch 13: val_accuracy improved from 0.71429 to 0.90476, saving model to iris.hdf5\n",
      "42/42 [==============================] - 1s 21ms/step - loss: 0.7151 - accuracy: 0.7262 - val_loss: 0.7055 - val_accuracy: 0.9048\n",
      "Epoch 14/50\n",
      "42/42 [==============================] - ETA: 0s - loss: 0.6775 - accuracy: 0.7619\n",
      "Epoch 14: val_accuracy did not improve from 0.90476\n",
      "42/42 [==============================] - 1s 16ms/step - loss: 0.6775 - accuracy: 0.7619 - val_loss: 0.6740 - val_accuracy: 0.9048\n",
      "Epoch 15/50\n",
      "40/42 [===========================>..] - ETA: 0s - loss: 0.6486 - accuracy: 0.8125\n",
      "Epoch 15: val_accuracy did not improve from 0.90476\n",
      "42/42 [==============================] - 0s 12ms/step - loss: 0.6463 - accuracy: 0.8095 - val_loss: 0.6468 - val_accuracy: 0.9048\n",
      "Epoch 16/50\n",
      "36/42 [========================>.....] - ETA: 0s - loss: 0.6293 - accuracy: 0.8194\n",
      "Epoch 16: val_accuracy did not improve from 0.90476\n",
      "42/42 [==============================] - 1s 13ms/step - loss: 0.6183 - accuracy: 0.8214 - val_loss: 0.6226 - val_accuracy: 0.9048\n",
      "Epoch 17/50\n",
      "39/42 [==========================>...] - ETA: 0s - loss: 0.6031 - accuracy: 0.8333\n",
      "Epoch 17: val_accuracy improved from 0.90476 to 0.95238, saving model to iris.hdf5\n",
      "42/42 [==============================] - 1s 23ms/step - loss: 0.5928 - accuracy: 0.8452 - val_loss: 0.6038 - val_accuracy: 0.9524\n",
      "Epoch 18/50\n",
      "40/42 [===========================>..] - ETA: 0s - loss: 0.5701 - accuracy: 0.8125\n",
      "Epoch 18: val_accuracy did not improve from 0.95238\n",
      "42/42 [==============================] - 1s 13ms/step - loss: 0.5724 - accuracy: 0.7976 - val_loss: 0.5822 - val_accuracy: 0.9048\n",
      "Epoch 19/50\n",
      "35/42 [========================>.....] - ETA: 0s - loss: 0.5489 - accuracy: 0.8571\n",
      "Epoch 19: val_accuracy did not improve from 0.95238\n",
      "42/42 [==============================] - 0s 11ms/step - loss: 0.5509 - accuracy: 0.8810 - val_loss: 0.5707 - val_accuracy: 0.9524\n",
      "Epoch 20/50\n",
      "33/42 [======================>.......] - ETA: 0s - loss: 0.5407 - accuracy: 0.9091\n",
      "Epoch 20: val_accuracy did not improve from 0.95238\n",
      "42/42 [==============================] - 1s 14ms/step - loss: 0.5328 - accuracy: 0.9286 - val_loss: 0.5509 - val_accuracy: 0.9524\n",
      "Epoch 21/50\n",
      "40/42 [===========================>..] - ETA: 0s - loss: 0.5282 - accuracy: 0.8750\n",
      "Epoch 21: val_accuracy did not improve from 0.95238\n",
      "42/42 [==============================] - 1s 14ms/step - loss: 0.5151 - accuracy: 0.8810 - val_loss: 0.5311 - val_accuracy: 0.9524\n",
      "Epoch 22/50\n",
      "37/42 [=========================>....] - ETA: 0s - loss: 0.4857 - accuracy: 0.9054\n",
      "Epoch 22: val_accuracy did not improve from 0.95238\n",
      "42/42 [==============================] - 1s 17ms/step - loss: 0.5003 - accuracy: 0.9167 - val_loss: 0.5189 - val_accuracy: 0.9524\n",
      "Epoch 23/50\n",
      "38/42 [==========================>...] - ETA: 0s - loss: 0.4854 - accuracy: 0.9474\n",
      "Epoch 23: val_accuracy improved from 0.95238 to 1.00000, saving model to iris.hdf5\n",
      "42/42 [==============================] - 0s 11ms/step - loss: 0.4857 - accuracy: 0.9405 - val_loss: 0.5056 - val_accuracy: 1.0000\n",
      "Epoch 24/50\n",
      "39/42 [==========================>...] - ETA: 0s - loss: 0.4739 - accuracy: 0.9231\n",
      "Epoch 24: val_accuracy did not improve from 1.00000\n",
      "42/42 [==============================] - 1s 16ms/step - loss: 0.4723 - accuracy: 0.9286 - val_loss: 0.4981 - val_accuracy: 1.0000\n",
      "Epoch 25/50\n",
      "41/42 [============================>.] - ETA: 0s - loss: 0.4621 - accuracy: 0.9512\n",
      "Epoch 25: val_accuracy did not improve from 1.00000\n",
      "42/42 [==============================] - 1s 19ms/step - loss: 0.4606 - accuracy: 0.9524 - val_loss: 0.4863 - val_accuracy: 1.0000\n",
      "Epoch 26/50\n",
      "41/42 [============================>.] - ETA: 0s - loss: 0.4465 - accuracy: 0.9512\n",
      "Epoch 26: val_accuracy did not improve from 1.00000\n",
      "42/42 [==============================] - 0s 11ms/step - loss: 0.4490 - accuracy: 0.9524 - val_loss: 0.4739 - val_accuracy: 1.0000\n",
      "Epoch 27/50\n",
      "35/42 [========================>.....] - ETA: 0s - loss: 0.4336 - accuracy: 0.9429\n",
      "Epoch 27: val_accuracy did not improve from 1.00000\n",
      "42/42 [==============================] - 1s 15ms/step - loss: 0.4378 - accuracy: 0.9405 - val_loss: 0.4569 - val_accuracy: 1.0000\n",
      "Epoch 28/50\n",
      "40/42 [===========================>..] - ETA: 0s - loss: 0.4328 - accuracy: 0.9500\n",
      "Epoch 28: val_accuracy did not improve from 1.00000\n",
      "42/42 [==============================] - 1s 15ms/step - loss: 0.4278 - accuracy: 0.9524 - val_loss: 0.4514 - val_accuracy: 1.0000\n",
      "Epoch 29/50\n",
      "41/42 [============================>.] - ETA: 0s - loss: 0.4263 - accuracy: 0.9512\n",
      "Epoch 29: val_accuracy did not improve from 1.00000\n",
      "42/42 [==============================] - 1s 14ms/step - loss: 0.4181 - accuracy: 0.9524 - val_loss: 0.4417 - val_accuracy: 1.0000\n"
     ]
    },
    {
     "name": "stdout",
     "output_type": "stream",
     "text": [
      "Epoch 30/50\n",
      "41/42 [============================>.] - ETA: 0s - loss: 0.4142 - accuracy: 0.9512\n",
      "Epoch 30: val_accuracy did not improve from 1.00000\n",
      "42/42 [==============================] - 0s 10ms/step - loss: 0.4118 - accuracy: 0.9524 - val_loss: 0.4328 - val_accuracy: 1.0000\n",
      "Epoch 31/50\n",
      "39/42 [==========================>...] - ETA: 0s - loss: 0.4089 - accuracy: 0.9615\n",
      "Epoch 31: val_accuracy did not improve from 1.00000\n",
      "42/42 [==============================] - 1s 16ms/step - loss: 0.4017 - accuracy: 0.9524 - val_loss: 0.4194 - val_accuracy: 1.0000\n",
      "Epoch 32/50\n",
      "40/42 [===========================>..] - ETA: 0s - loss: 0.3872 - accuracy: 0.9750\n",
      "Epoch 32: val_accuracy did not improve from 1.00000\n",
      "42/42 [==============================] - 1s 20ms/step - loss: 0.3930 - accuracy: 0.9643 - val_loss: 0.4198 - val_accuracy: 1.0000\n",
      "Epoch 33/50\n",
      "34/42 [=======================>......] - ETA: 0s - loss: 0.3904 - accuracy: 0.9559\n",
      "Epoch 33: val_accuracy did not improve from 1.00000\n",
      "42/42 [==============================] - 0s 11ms/step - loss: 0.3853 - accuracy: 0.9643 - val_loss: 0.4113 - val_accuracy: 1.0000\n",
      "Epoch 34/50\n",
      "42/42 [==============================] - ETA: 0s - loss: 0.3760 - accuracy: 0.9643\n",
      "Epoch 34: val_accuracy did not improve from 1.00000\n",
      "42/42 [==============================] - 1s 15ms/step - loss: 0.3760 - accuracy: 0.9643 - val_loss: 0.3927 - val_accuracy: 1.0000\n",
      "Epoch 35/50\n",
      "36/42 [========================>.....] - ETA: 0s - loss: 0.3812 - accuracy: 0.9722\n",
      "Epoch 35: val_accuracy did not improve from 1.00000\n",
      "42/42 [==============================] - 1s 23ms/step - loss: 0.3684 - accuracy: 0.9643 - val_loss: 0.3896 - val_accuracy: 1.0000\n",
      "Epoch 36/50\n",
      "37/42 [=========================>....] - ETA: 0s - loss: 0.3607 - accuracy: 0.9595\n",
      "Epoch 36: val_accuracy did not improve from 1.00000\n",
      "42/42 [==============================] - 1s 22ms/step - loss: 0.3630 - accuracy: 0.9643 - val_loss: 0.3815 - val_accuracy: 1.0000\n",
      "Epoch 37/50\n",
      "42/42 [==============================] - ETA: 0s - loss: 0.3564 - accuracy: 0.9643\n",
      "Epoch 37: val_accuracy did not improve from 1.00000\n",
      "42/42 [==============================] - 0s 12ms/step - loss: 0.3564 - accuracy: 0.9643 - val_loss: 0.3740 - val_accuracy: 1.0000\n",
      "Epoch 38/50\n",
      "39/42 [==========================>...] - ETA: 0s - loss: 0.3543 - accuracy: 0.9615\n",
      "Epoch 38: val_accuracy did not improve from 1.00000\n",
      "42/42 [==============================] - 1s 19ms/step - loss: 0.3527 - accuracy: 0.9643 - val_loss: 0.3673 - val_accuracy: 1.0000\n",
      "Epoch 39/50\n",
      "42/42 [==============================] - ETA: 0s - loss: 0.3422 - accuracy: 0.9762\n",
      "Epoch 39: val_accuracy did not improve from 1.00000\n",
      "42/42 [==============================] - 1s 18ms/step - loss: 0.3422 - accuracy: 0.9762 - val_loss: 0.3588 - val_accuracy: 1.0000\n",
      "Epoch 40/50\n",
      "36/42 [========================>.....] - ETA: 0s - loss: 0.3419 - accuracy: 0.9583\n",
      "Epoch 40: val_accuracy did not improve from 1.00000\n",
      "42/42 [==============================] - 1s 14ms/step - loss: 0.3361 - accuracy: 0.9643 - val_loss: 0.3518 - val_accuracy: 1.0000\n",
      "Epoch 41/50\n",
      "41/42 [============================>.] - ETA: 0s - loss: 0.3274 - accuracy: 0.9634\n",
      "Epoch 41: val_accuracy did not improve from 1.00000\n",
      "42/42 [==============================] - 1s 15ms/step - loss: 0.3292 - accuracy: 0.9643 - val_loss: 0.3459 - val_accuracy: 1.0000\n",
      "Epoch 42/50\n",
      "37/42 [=========================>....] - ETA: 0s - loss: 0.3232 - accuracy: 0.9730\n",
      "Epoch 42: val_accuracy did not improve from 1.00000\n",
      "42/42 [==============================] - 1s 17ms/step - loss: 0.3233 - accuracy: 0.9762 - val_loss: 0.3377 - val_accuracy: 1.0000\n",
      "Epoch 43/50\n",
      "38/42 [==========================>...] - ETA: 0s - loss: 0.3265 - accuracy: 0.9868\n",
      "Epoch 43: val_accuracy did not improve from 1.00000\n",
      "42/42 [==============================] - 1s 17ms/step - loss: 0.3193 - accuracy: 0.9762 - val_loss: 0.3332 - val_accuracy: 1.0000\n",
      "Epoch 44/50\n",
      "33/42 [======================>.......] - ETA: 0s - loss: 0.3097 - accuracy: 0.9697\n",
      "Epoch 44: val_accuracy did not improve from 1.00000\n",
      "42/42 [==============================] - 1s 12ms/step - loss: 0.3119 - accuracy: 0.9762 - val_loss: 0.3265 - val_accuracy: 1.0000\n",
      "Epoch 45/50\n",
      "36/42 [========================>.....] - ETA: 0s - loss: 0.3076 - accuracy: 0.9583\n",
      "Epoch 45: val_accuracy did not improve from 1.00000\n",
      "42/42 [==============================] - 1s 19ms/step - loss: 0.3096 - accuracy: 0.9643 - val_loss: 0.3237 - val_accuracy: 1.0000\n",
      "Epoch 46/50\n",
      "41/42 [============================>.] - ETA: 0s - loss: 0.3002 - accuracy: 0.9756\n",
      "Epoch 46: val_accuracy did not improve from 1.00000\n",
      "42/42 [==============================] - 1s 21ms/step - loss: 0.3016 - accuracy: 0.9762 - val_loss: 0.3170 - val_accuracy: 1.0000\n",
      "Epoch 47/50\n",
      "34/42 [=======================>......] - ETA: 0s - loss: 0.2917 - accuracy: 0.9559\n",
      "Epoch 47: val_accuracy did not improve from 1.00000\n",
      "42/42 [==============================] - 0s 9ms/step - loss: 0.2970 - accuracy: 0.9643 - val_loss: 0.3088 - val_accuracy: 1.0000\n",
      "Epoch 48/50\n",
      "41/42 [============================>.] - ETA: 0s - loss: 0.2840 - accuracy: 0.9756\n",
      "Epoch 48: val_accuracy did not improve from 1.00000\n",
      "42/42 [==============================] - 0s 10ms/step - loss: 0.2921 - accuracy: 0.9643 - val_loss: 0.3054 - val_accuracy: 1.0000\n",
      "Epoch 49/50\n",
      "35/42 [========================>.....] - ETA: 0s - loss: 0.2940 - accuracy: 0.9857\n",
      "Epoch 49: val_accuracy did not improve from 1.00000\n",
      "42/42 [==============================] - 1s 13ms/step - loss: 0.2865 - accuracy: 0.9762 - val_loss: 0.2965 - val_accuracy: 1.0000\n",
      "Epoch 50/50\n",
      "37/42 [=========================>....] - ETA: 0s - loss: 0.2815 - accuracy: 0.9730\n",
      "Epoch 50: val_accuracy did not improve from 1.00000\n",
      "42/42 [==============================] - 1s 18ms/step - loss: 0.2824 - accuracy: 0.9643 - val_loss: 0.2958 - val_accuracy: 1.0000\n"
     ]
    }
   ],
   "source": [
    "hist = iris_classificacao.fit(X_train, y_train, epochs=50, batch_size=2, verbose=1, validation_split=0.2, callbacks=[checkpointer])"
   ]
  },
  {
   "cell_type": "code",
   "execution_count": 32,
   "id": "ea773857",
   "metadata": {},
   "outputs": [],
   "source": [
    "iris_classificacao_best = tf.keras.models.load_model('modelos/iris.hdf5')"
   ]
  },
  {
   "cell_type": "code",
   "execution_count": 33,
   "id": "2631b21d",
   "metadata": {},
   "outputs": [
    {
     "name": "stdout",
     "output_type": "stream",
     "text": [
      "2/2 [==============================] - 2s 17ms/step - loss: 0.4088 - accuracy: 0.9778\n",
      "Resultado dos testes - Loss: 0.4088364839553833 - Accuracy: 0.9777777791023254%\n"
     ]
    }
   ],
   "source": [
    "test_results = iris_classificacao_best.evaluate(X_test, y_test, verbose=1)\n",
    "print(f'Resultado dos testes - Loss: {test_results[0]} - Accuracy: {test_results[1]}%')"
   ]
  },
  {
   "cell_type": "code",
   "execution_count": 38,
   "id": "61ec7e36",
   "metadata": {},
   "outputs": [
    {
     "data": {
      "image/png": "[encoded data removed]",
      "text/plain": [
       "<Figure size 432x288 with 1 Axes>"
      ]
     },
     "metadata": {
      "needs_background": "light"
     },
     "output_type": "display_data"
    }
   ],
   "source": [
    "plt.figure(1)\n",
    "plt.plot(hist.history['accuracy'])\n",
    "plt.plot(hist.history['val_accuracy'])\n",
    "\n",
    "# Melhor época - 23\n",
    "plt.axvline(x=20, ymin=0, ymax=1, c='green')\n",
    "\n",
    "plt.title('model accuracy')\n",
    "plt.ylabel('accuracy')\n",
    "plt.xlabel('epoch')\n",
    "plt.legend(['train', 'validation'], loc='upper left')\n",
    "plt.show()"
   ]
  },
  {
   "cell_type": "code",
   "execution_count": 35,
   "id": "2925f587",
   "metadata": {},
   "outputs": [
    {
     "data": {
      "text/plain": [
       "array([[4.7, 3.2, 1.6, 0.2]])"
      ]
     },
     "execution_count": 35,
     "metadata": {},
     "output_type": "execute_result"
    }
   ],
   "source": [
    "# Testando uma amostra\n",
    "amostra_iris = X_test[20]\n",
    "amostra_iris.reshape(1,4)"
   ]
  },
  {
   "cell_type": "code",
   "execution_count": 36,
   "id": "8178848b",
   "metadata": {},
   "outputs": [
    {
     "name": "stdout",
     "output_type": "stream",
     "text": [
      "[1. 0. 0.]\n",
      "['setosa' 'versicolor' 'virginica']\n"
     ]
    }
   ],
   "source": [
    "print(y_test[20])\n",
    "print(iris.target_names)\n",
    "\n",
    "# Classe correta - Setosa"
   ]
  },
  {
   "cell_type": "code",
   "execution_count": 37,
   "id": "b071e683",
   "metadata": {},
   "outputs": [
    {
     "name": "stdout",
     "output_type": "stream",
     "text": [
      "1/1 [==============================] - 1s 944ms/step\n"
     ]
    },
    {
     "data": {
      "text/plain": [
       "array([[0.7984895 , 0.39452744, 0.11810607]], dtype=float32)"
      ]
     },
     "execution_count": 37,
     "metadata": {},
     "output_type": "execute_result"
    }
   ],
   "source": [
    "iris_classificacao_best.predict(amostra_iris.reshape(1,4)) # 0.798 PROB na classe correta, que é a Setosa"
   ]
  },
  {
   "cell_type": "markdown",
   "id": "aa1e5d20",
   "metadata": {},
   "source": [
    "____"
   ]
  }
 ],
 "metadata": {
  "kernelspec": {
   "display_name": "Python 3 (ipykernel)",
   "language": "python",
   "name": "python3"
  },
  "language_info": {
   "codemirror_mode": {
    "name": "ipython",
    "version": 3
   },
   "file_extension": ".py",
   "mimetype": "text/x-python",
   "name": "python",
   "nbconvert_exporter": "python",
   "pygments_lexer": "ipython3",
   "version": "3.9.7"
  }
 },
 "nbformat": 4,
 "nbformat_minor": 5
}
